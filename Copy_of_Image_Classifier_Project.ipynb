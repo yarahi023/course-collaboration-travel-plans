{
  "cells": [
    {
      "cell_type": "markdown",
      "metadata": {
        "id": "view-in-github",
        "colab_type": "text"
      },
      "source": [
        "<a href=\"https://colab.research.google.com/github/yarahi023/course-collaboration-travel-plans/blob/master/Copy_of_Image_Classifier_Project.ipynb\" target=\"_parent\"><img src=\"https://colab.research.google.com/assets/colab-badge.svg\" alt=\"Open In Colab\"/></a>"
      ]
    },
    {
      "cell_type": "code",
      "source": [
        "import torch\n",
        "print(torch.__version__)\n",
        "print(torch.cuda.is_available()) # Should return True when GPU is enabled.\n"
      ],
      "metadata": {
        "colab": {
          "base_uri": "https://localhost:8080/"
        },
        "id": "u6oEdxuKEuki",
        "outputId": "78a19c64-f3dd-4f85-c40c-8715f13014e2"
      },
      "execution_count": null,
      "outputs": [
        {
          "output_type": "stream",
          "name": "stdout",
          "text": [
            "2.3.1+cu121\n",
            "True\n"
          ]
        }
      ]
    },
    {
      "cell_type": "markdown",
      "metadata": {
        "id": "yleyxPv7Dm1m"
      },
      "source": [
        "# Developing an AI application\n",
        "\n",
        "Going forward, AI algorithms will be incorporated into more and more everyday applications. For example, you might want to include an image classifier in a smart phone app. To do this, you'd use a deep learning model trained on hundreds of thousands of images as part of the overall application architecture. A large part of software development in the future will be using these types of models as common parts of applications.\n",
        "\n",
        "In this project, you'll train an image classifier to recognize different species of flowers. You can imagine using something like this in a phone app that tells you the name of the flower your camera is looking at. In practice you'd train this classifier, then export it for use in your application. We'll be using [this dataset](http://www.robots.ox.ac.uk/~vgg/data/flowers/102/index.html) of 102 flower categories, you can see a few examples below.\n",
        "\n",
        "<img src='https://github.com/udacity/aipnd-project/blob/master/assets/Flowers.png?raw=1' width=500px>\n",
        "\n",
        "The project is broken down into multiple steps:\n",
        "\n",
        "* Load and preprocess the image dataset\n",
        "* Train the image classifier on your dataset\n",
        "* Use the trained classifier to predict image content\n",
        "\n",
        "We'll lead you through each part which you'll implement in Python.\n",
        "\n",
        "When you've completed this project, you'll have an application that can be trained on any set of labeled images. Here your network will be learning about flowers and end up as a command line application. But, what you do with your new skills depends on your imagination and effort in building a dataset. For example, imagine an app where you take a picture of a car, it tells you what the make and model is, then looks up information about it. Go build your own dataset and make something new.\n",
        "\n",
        "First up is importing the packages you'll need. It's good practice to keep all the imports at the beginning of your code. As you work through this notebook and find you need to import a package, make sure to add the import up here."
      ]
    },
    {
      "cell_type": "code",
      "execution_count": null,
      "metadata": {
        "id": "eOUOSAGrDm1n"
      },
      "outputs": [],
      "source": [
        "# Imports here\n",
        "%matplotlib inline\n",
        "%config InlineBackend.figure_format = 'retina'\n",
        "import matplotlib.pyplot as plt\n",
        "from torch import tensor\n",
        "from torch.optim import lr_scheduler\n",
        "\n",
        "from PIL import Image\n",
        "import PIL\n",
        "import numpy as np\n",
        "import time\n",
        "import torch\n",
        "#import helper\n",
        "import torch.nn as nn\n",
        "from torch import nn, optim\n",
        "#from torch.optim import lr_scheduler\n",
        "import torch.nn.functional as F\n",
        "from torch.autograd import Variable\n",
        "from torchvision import datasets, transforms, models\n",
        "from collections import OrderedDict\n",
        "from torch.utils.data import DataLoader\n",
        "import json\n",
        "#import argparse\n",
        "import torchvision.models as models\n",
        "#import seaborn as sns\n",
        "from torchvision.models import VGG16_Weights, vgg16\n",
        "from torchvision.models import vgg16, VGG16_Weights\n",
        "#from torch.optim.lr_scheduler import StepLR"
      ]
    },
    {
      "cell_type": "markdown",
      "metadata": {
        "id": "ogaSzbH9Dm1o"
      },
      "source": [
        "## Load the data\n",
        "\n",
        "Here you'll use `torchvision` to load the data ([documentation](http://pytorch.org/docs/0.3.0/torchvision/index.html)). The data should be included alongside this notebook, otherwise you can [download it here](https://s3.amazonaws.com/content.udacity-data.com/nd089/flower_data.tar.gz). The dataset is split into three parts, training, validation, and testing. For the training, you'll want to apply transformations such as random scaling, cropping, and flipping. This will help the network generalize leading to better performance. You'll also need to make sure the input data is resized to 224x224 pixels as required by the pre-trained networks.\n",
        "\n",
        "The validation and testing sets are used to measure the model's performance on data it hasn't seen yet. For this you don't want any scaling or rotation transformations, but you'll need to resize then crop the images to the appropriate size.\n",
        "\n",
        "The pre-trained networks you'll use were trained on the ImageNet dataset where each color channel was normalized separately. For all three sets you'll need to normalize the means and standard deviations of the images to what the network expects. For the means, it's `[0.485, 0.456, 0.406]` and for the standard deviations `[0.229, 0.224, 0.225]`, calculated from the ImageNet images.  These values will shift each color channel to be centered at 0 and range from -1 to 1.\n"
      ]
    },
    {
      "cell_type": "code",
      "source": [
        "!wget 'https://s3.amazonaws.com/content.udacity-data.com/nd089/flower_data.tar.gz'\n",
        "\n",
        "!mkdir flowers && tar -xzf flower_data.tar.gz -C flowers"
      ],
      "metadata": {
        "colab": {
          "base_uri": "https://localhost:8080/"
        },
        "id": "ZeTsT7NhFJe_",
        "outputId": "67362c9f-9d8c-4f1a-d6c0-f278fd5481a1"
      },
      "execution_count": null,
      "outputs": [
        {
          "output_type": "stream",
          "name": "stdout",
          "text": [
            "--2024-08-17 06:49:53--  https://s3.amazonaws.com/content.udacity-data.com/nd089/flower_data.tar.gz\n",
            "Resolving s3.amazonaws.com (s3.amazonaws.com)... 52.217.226.8, 52.217.167.136, 16.182.40.176, ...\n",
            "Connecting to s3.amazonaws.com (s3.amazonaws.com)|52.217.226.8|:443... connected.\n",
            "HTTP request sent, awaiting response... 200 OK\n",
            "Length: 344873452 (329M) [application/x-gzip]\n",
            "Saving to: ‘flower_data.tar.gz’\n",
            "\n",
            "flower_data.tar.gz  100%[===================>] 328.90M  48.5MB/s    in 7.2s    \n",
            "\n",
            "2024-08-17 06:50:01 (45.6 MB/s) - ‘flower_data.tar.gz’ saved [344873452/344873452]\n",
            "\n"
          ]
        }
      ]
    },
    {
      "cell_type": "code",
      "source": [
        "!rm -rf flowers\n",
        "!mkdir flowers && tar -xzf flower_data.tar.gz -C flowers\n"
      ],
      "metadata": {
        "id": "y_Kd1jngFReV"
      },
      "execution_count": null,
      "outputs": []
    },
    {
      "cell_type": "code",
      "execution_count": null,
      "metadata": {
        "id": "30plMdAYDm1o"
      },
      "outputs": [],
      "source": [
        "data_dir = 'flowers'\n",
        "train_dir = data_dir + '/train'\n",
        "valid_dir = data_dir + '/valid'\n",
        "test_dir = data_dir + '/test'"
      ]
    },
    {
      "cell_type": "code",
      "execution_count": null,
      "metadata": {
        "colab": {
          "base_uri": "https://localhost:8080/"
        },
        "id": "hZ_A2dOADm1p",
        "outputId": "82a18346-229f-400c-fa2e-2a2ee7244251"
      },
      "outputs": [
        {
          "output_type": "stream",
          "name": "stdout",
          "text": [
            "6552 818 819\n"
          ]
        }
      ],
      "source": [
        "# TODO: Define your transforms for the training, validation, and testing sets\n",
        "data_transforms = {\n",
        "    'train' : transforms.Compose(\n",
        "        [transforms.RandomResizedCrop(size=224),\n",
        "        transforms.RandomRotation(30),\n",
        "        transforms.ColorJitter(brightness=0.2, contrast=0.2, saturation=0.2, hue=0.1),\n",
        "        transforms.RandomHorizontalFlip(),\n",
        "        transforms.ToTensor(),\n",
        "        transforms.Normalize([0.485,0.456,0.406],\n",
        "                             [0.229,0.224,0.225])\n",
        "    ]),\n",
        "    'validation' : transforms.Compose(\n",
        "        [transforms.Resize(size=256),\n",
        "        transforms.CenterCrop(size=224),\n",
        "        transforms.ToTensor(),\n",
        "        transforms.Normalize([0.485,0.456,0.406],\n",
        "                             [0.229,0.224,0.225])\n",
        "    ]),\n",
        "    'test' : transforms.Compose(\n",
        "        [ transforms.Resize(size=256),\n",
        "        transforms.CenterCrop(size=224),\n",
        "        transforms.ToTensor(),\n",
        "        transforms.Normalize([0.485,0.456,0.406],\n",
        "                             [0.229,0.224,0.225])\n",
        "    ])\n",
        "}\n",
        "\n",
        "\n",
        "# TODO: Load the datasets with ImageFolder\n",
        "image_datasets = {\n",
        "    'train' : datasets.ImageFolder(train_dir, transform=data_transforms['train']),\n",
        "    'validation' : datasets.ImageFolder(valid_dir, transform=data_transforms['validation']),\n",
        "    'test' : datasets.ImageFolder(test_dir, transform=data_transforms['test'])\n",
        "}\n",
        "\n",
        "\n",
        "# TODO: Using the image datasets and the trainforms, define the dataloaders\n",
        "dataloaders = {\n",
        "    'train': DataLoader(image_datasets['train'], batch_size = 64, shuffle = True),\n",
        "    'test': DataLoader(image_datasets['test'], batch_size = 64, shuffle = False),\n",
        "    'validation': DataLoader(image_datasets['validation'], batch_size = 64, shuffle=False)\n",
        "}\n",
        "\n",
        "#Size of Loaders, to be used for calculating Average Loss and Accuracy\n",
        "train_size = len(image_datasets['train'])\n",
        "validation_size = len(image_datasets['validation'])\n",
        "test_size = len(image_datasets['test'])\n",
        "\n",
        "print(train_size, validation_size, test_size)\n",
        "\n",
        "class_to_idx = image_datasets['train'].class_to_idx\n"
      ]
    },
    {
      "cell_type": "markdown",
      "metadata": {
        "id": "T0hdmRpwDm1p"
      },
      "source": [
        "### Label mapping\n",
        "\n",
        "You'll also need to load in a mapping from category label to category name. You can find this in the file `cat_to_name.json`. It's a JSON object which you can read in with the [`json` module](https://docs.python.org/2/library/json.html). This will give you a dictionary mapping the integer encoded categories to the actual names of the flowers."
      ]
    },
    {
      "cell_type": "code",
      "execution_count": null,
      "metadata": {
        "colab": {
          "base_uri": "https://localhost:8080/"
        },
        "id": "iiuFfqRKDm1p",
        "outputId": "b1b75671-b4ee-4d94-d6bf-39a39c418119"
      },
      "outputs": [
        {
          "output_type": "stream",
          "name": "stdout",
          "text": [
            "{'21': 'fire lily', '3': 'canterbury bells', '45': 'bolero deep blue', '1': 'pink primrose', '34': 'mexican aster', '27': 'prince of wales feathers', '7': 'moon orchid', '16': 'globe-flower', '25': 'grape hyacinth', '26': 'corn poppy', '79': 'toad lily', '39': 'siam tulip', '24': 'red ginger', '67': 'spring crocus', '35': 'alpine sea holly', '32': 'garden phlox', '10': 'globe thistle', '6': 'tiger lily', '93': 'ball moss', '33': 'love in the mist', '9': 'monkshood', '102': 'blackberry lily', '14': 'spear thistle', '19': 'balloon flower', '100': 'blanket flower', '13': 'king protea', '49': 'oxeye daisy', '15': 'yellow iris', '61': 'cautleya spicata', '31': 'carnation', '64': 'silverbush', '68': 'bearded iris', '63': 'black-eyed susan', '69': 'windflower', '62': 'japanese anemone', '20': 'giant white arum lily', '38': 'great masterwort', '4': 'sweet pea', '86': 'tree mallow', '101': 'trumpet creeper', '42': 'daffodil', '22': 'pincushion flower', '2': 'hard-leaved pocket orchid', '54': 'sunflower', '66': 'osteospermum', '70': 'tree poppy', '85': 'desert-rose', '99': 'bromelia', '87': 'magnolia', '5': 'english marigold', '92': 'bee balm', '28': 'stemless gentian', '97': 'mallow', '57': 'gaura', '40': 'lenten rose', '47': 'marigold', '59': 'orange dahlia', '48': 'buttercup', '55': 'pelargonium', '36': 'ruby-lipped cattleya', '91': 'hippeastrum', '29': 'artichoke', '71': 'gazania', '90': 'canna lily', '18': 'peruvian lily', '98': 'mexican petunia', '8': 'bird of paradise', '30': 'sweet william', '17': 'purple coneflower', '52': 'wild pansy', '84': 'columbine', '12': \"colt's foot\", '11': 'snapdragon', '96': 'camellia', '23': 'fritillary', '50': 'common dandelion', '44': 'poinsettia', '53': 'primula', '72': 'azalea', '65': 'californian poppy', '80': 'anthurium', '76': 'morning glory', '37': 'cape flower', '56': 'bishop of llandaff', '60': 'pink-yellow dahlia', '82': 'clematis', '58': 'geranium', '75': 'thorn apple', '41': 'barbeton daisy', '95': 'bougainvillea', '43': 'sword lily', '83': 'hibiscus', '78': 'lotus lotus', '88': 'cyclamen', '94': 'foxglove', '81': 'frangipani', '74': 'rose', '89': 'watercress', '73': 'water lily', '46': 'wallflower', '77': 'passion flower', '51': 'petunia'}\n"
          ]
        }
      ],
      "source": [
        "import json\n",
        "\n",
        "with open('cat_to_name.json', 'r') as f:\n",
        "    cat_to_name = json.load(f)\n",
        "print(cat_to_name)"
      ]
    },
    {
      "cell_type": "markdown",
      "metadata": {
        "id": "KAguCvLEDm1p"
      },
      "source": [
        "# Building and training the classifier\n",
        "\n",
        "Now that the data is ready, it's time to build and train the classifier. As usual, you should use one of the pretrained models from `torchvision.models` to get the image features. Build and train a new feed-forward classifier using those features.\n",
        "\n",
        "We're going to leave this part up to you. Refer to [the rubric](https://review.udacity.com/#!/rubrics/1663/view) for guidance on successfully completing this section. Things you'll need to do:\n",
        "\n",
        "* Load a [pre-trained network](http://pytorch.org/docs/master/torchvision/models.html) (If you need a starting point, the VGG networks work great and are straightforward to use)\n",
        "* Define a new, untrained feed-forward network as a classifier, using ReLU activations and dropout\n",
        "* Train the classifier layers using backpropagation using the pre-trained network to get the features\n",
        "* Track the loss and accuracy on the validation set to determine the best hyperparameters\n",
        "\n",
        "We've left a cell open for you below, but use as many as you need. Our advice is to break the problem up into smaller parts you can run separately. Check that each part is doing what you expect, then move on to the next. You'll likely find that as you work through each part, you'll need to go back and modify your previous code. This is totally normal!\n",
        "\n",
        "When training make sure you're updating only the weights of the feed-forward network. You should be able to get the validation accuracy above 70% if you build everything right. Make sure to try different hyperparameters (learning rate, units in the classifier, epochs, etc) to find the best model. Save those hyperparameters to use as default values in the next part of the project.\n",
        "\n",
        "One last important tip if you're using the workspace to run your code: To avoid having your workspace disconnect during the long-running tasks in this notebook, please read in the earlier page in this lesson called Intro to\n",
        "GPU Workspaces about Keeping Your Session Active. You'll want to include code from the workspace_utils.py module.\n",
        "\n",
        "**Note for Workspace users:** If your network is over 1 GB when saved as a checkpoint, there might be issues with saving backups in your workspace. Typically this happens with wide dense layers after the convolutional layers. If your saved checkpoint is larger than 1 GB (you can open a terminal and check with `ls -lh`), you should reduce the size of your hidden layers and train again."
      ]
    },
    {
      "cell_type": "code",
      "source": [
        "model = vgg16(weights=VGG16_Weights.DEFAULT)\n",
        "model\n"
      ],
      "metadata": {
        "id": "k-ZS_3DKFnjP"
      },
      "execution_count": null,
      "outputs": []
    },
    {
      "cell_type": "code",
      "execution_count": null,
      "metadata": {
        "colab": {
          "base_uri": "https://localhost:8080/"
        },
        "id": "_0YiMqn5Dm1p",
        "outputId": "473c0aeb-8dc6-4ab5-f477-8187eb93f648"
      },
      "outputs": [
        {
          "output_type": "stream",
          "name": "stderr",
          "text": [
            "Downloading: \"https://download.pytorch.org/models/vgg16-397923af.pth\" to /root/.cache/torch/hub/checkpoints/vgg16-397923af.pth\n",
            "100%|██████████| 528M/528M [00:06<00:00, 84.7MB/s]\n"
          ]
        },
        {
          "output_type": "stream",
          "name": "stdout",
          "text": [
            "Trainable parameters:\n",
            "torch.Size([4096, 25088])\n",
            "torch.Size([4096])\n",
            "torch.Size([4096])\n",
            "torch.Size([4096])\n",
            "torch.Size([102, 4096])\n",
            "torch.Size([102])\n",
            "torch.Size([102])\n",
            "torch.Size([102])\n"
          ]
        }
      ],
      "source": [
        "# TODO: Build and train your network\n",
        "model = vgg16(weights=VGG16_Weights.DEFAULT)\n",
        "#Freeze the convolutional layers\n",
        "for param in model.features.parameters():\n",
        "    param.requires_grad = False  # Freeze the convolutional layers\n",
        "\n",
        "# Define the new classifier\n",
        "classifier = nn.Sequential(OrderedDict([\n",
        "    ('inputs', nn.Linear(25088, 4096)),\n",
        "    ('batchnorm1', nn.BatchNorm1d(4096)),\n",
        "    ('dropout', nn.Dropout(p=0.5)),\n",
        "    ('relu', nn.ReLU()),\n",
        "    ('fc2', nn.Linear(4096, 102)),\n",
        "    ('batchnorm2', nn.BatchNorm1d(102)),\n",
        "    ('output', nn.LogSoftmax(dim=1))\n",
        "]))\n",
        "\n",
        "# Replace the classifier\n",
        "model.classifier = classifier\n",
        "\n",
        "# Ensure that the classifier parameters are trainable\n",
        "for param in model.classifier.parameters():\n",
        "    param.requires_grad = True\n",
        "\n",
        "# Print trainable parameters for debugging\n",
        "print(\"Trainable parameters:\")\n",
        "for param in model.parameters():\n",
        "    if param.requires_grad:\n",
        "        print(param.shape)\n",
        "\n",
        "device = torch.device(\"cuda\" if torch.cuda.is_available() else \"cpu\")\n",
        "model.to(device)\n",
        "\n",
        "criterion = nn.CrossEntropyLoss()\n",
        "\n",
        "# Initialize the optimizer\n",
        "optimizer = torch.optim.Adam(model.classifier.parameters(), lr=0.0001)\n",
        "#scheduler = lr_scheduler.ReduceLROnPlateau(optimizer, 'min', patience=3)\n",
        "\n",
        "model.classifier = classifier"
      ]
    },
    {
      "cell_type": "code",
      "source": [
        "epochs = 2\n",
        "print_every = 25 #50 # Adjust this based on how often you want to print the stats\n",
        "running_loss = 0\n",
        "steps = 0\n",
        "test_loss = 0\n",
        "correct = 0\n",
        "total = 0\n",
        "for epoch in range(epochs):\n",
        "    print(\"Epoch: {}/{}\".format(epoch + 1, epochs))\n",
        "    model.train()  # Set to training mode\n",
        "\n",
        "    for images, labels in dataloaders['train']:\n",
        "        images, labels = images.to(device), labels.to(device)\n",
        "        optimizer.zero_grad()\n",
        "        outputs = model(images)\n",
        "        loss = criterion(outputs, labels)\n",
        "        loss.backward()\n",
        "        optimizer.step()\n",
        "\n",
        "        running_loss += loss.item()\n",
        "        steps += 1\n",
        "\n",
        "        if steps % print_every == 0:\n",
        "            model.eval()  # Set the model to evaluation mode for testing\n",
        "            test_loss = 0\n",
        "            correct = 0\n",
        "            total = 0\n",
        "\n",
        "        with torch.no_grad():\n",
        "            for test_images, test_labels in dataloaders['test']:\n",
        "                test_images, test_labels = test_images.to(device), test_labels.to(device)\n",
        "                test_outputs = model(test_images)\n",
        "                loss = criterion(test_outputs, test_labels)\n",
        "                test_loss += loss.item()\n",
        "\n",
        "                ps = torch.exp(test_outputs)\n",
        "                top_ps, top_class = ps.topk(1, dim=1)\n",
        "                equals = top_class == test_labels.view(*top_class.shape)\n",
        "                correct += equals.sum().item()\n",
        "                total += test_labels.size(0)\n",
        "\n",
        "    # Calculate average test loss and accuracy\n",
        "        test_loss /= len(dataloaders['test'])  # Average over the number of batches\n",
        "        test_accuracy = correct / total if total > 0 else 0\n",
        "\n",
        "        print(f\"Epoch {epoch+1}/{epochs}, steps: {steps}, \"\n",
        "              f\"Train loss: {running_loss/print_every:.4f}, \"\n",
        "              f\"Test loss: {test_loss:.4f}, Test accuracy: {test_accuracy:.4f}\")\n",
        "\n",
        "        running_loss = 0\n",
        "\n",
        "# Initialize validation variables\n",
        "        model.eval()\n",
        "        valid_loss = 0\n",
        "        correct = 0\n",
        "        total = 0\n",
        "\n",
        "        model.eval()  # Set the model to evaluation mode\n",
        "        with torch.no_grad():\n",
        "            # Validation on the validation set\n",
        "            for val_images, val_labels in dataloaders['validation']:\n",
        "                val_images, val_labels = val_images.to(device), val_labels.to(device)\n",
        "                val_outputs = model(val_images)\n",
        "                val_loss = criterion(val_outputs, val_labels)\n",
        "                valid_loss += val_loss.item()\n",
        "\n",
        "                ps = torch.exp(val_outputs)\n",
        "                top_ps, top_class = ps.topk(1, dim=1)\n",
        "                equals = top_class == val_labels.view(*top_class.shape)\n",
        "                correct += equals.sum().item()\n",
        "                total += val_labels.size(0)\n",
        "\n",
        "        # Calculate average validation loss and accuracy\n",
        "        validation_loss = valid_loss / len(dataloaders['validation'])\n",
        "        validation_accuracy = correct / total if total > 0 else 0\n",
        "\n",
        "        print(f\"Epoch {epoch+1}/{epochs}, steps: {steps}, \"\n",
        "              f\"Train loss: {running_loss/print_every:.4f}, \"\n",
        "              f\"Validation loss: {validation_loss:.4f}, \"\n",
        "              f\"Validation accuracy: {validation_accuracy:.4f}\")\n",
        "\n",
        "        running_loss = 0"
      ],
      "metadata": {
        "colab": {
          "base_uri": "https://localhost:8080/"
        },
        "id": "jSsARp9pGMH-",
        "outputId": "aa944bf4-7c73-4d9f-8dc2-b660678f93f4"
      },
      "execution_count": null,
      "outputs": [
        {
          "output_type": "stream",
          "name": "stdout",
          "text": [
            "Epoch: 1/2\n",
            "Epoch 1/2, steps: 1, Train loss: 0.1880, Test loss: 4.5211, Test accuracy: 0.0415\n",
            "Epoch 1/2, steps: 1, Train loss: 0.0000, Validation loss: 4.0515, Validation accuracy: 0.1687\n",
            "Epoch 1/2, steps: 2, Train loss: 0.1718, Test loss: 4.2771, Test accuracy: 0.1772\n",
            "Epoch 1/2, steps: 2, Train loss: 0.0000, Validation loss: 3.8937, Validation accuracy: 0.1968\n",
            "Epoch 1/2, steps: 3, Train loss: 0.1691, Test loss: 4.1261, Test accuracy: 0.1973\n",
            "Epoch 1/2, steps: 3, Train loss: 0.0000, Validation loss: 3.7816, Validation accuracy: 0.2066\n",
            "Epoch 1/2, steps: 4, Train loss: 0.1638, Test loss: 3.9893, Test accuracy: 0.2101\n",
            "Epoch 1/2, steps: 4, Train loss: 0.0000, Validation loss: 3.6992, Validation accuracy: 0.2274\n",
            "Epoch 1/2, steps: 5, Train loss: 0.1583, Test loss: 3.8733, Test accuracy: 0.2309\n",
            "Epoch 1/2, steps: 5, Train loss: 0.0000, Validation loss: 3.6119, Validation accuracy: 0.2408\n",
            "Epoch 1/2, steps: 6, Train loss: 0.1570, Test loss: 3.7955, Test accuracy: 0.2327\n",
            "Epoch 1/2, steps: 6, Train loss: 0.0000, Validation loss: 3.5518, Validation accuracy: 0.2274\n",
            "Epoch 1/2, steps: 7, Train loss: 0.1601, Test loss: 3.6916, Test accuracy: 0.2321\n",
            "Epoch 1/2, steps: 7, Train loss: 0.0000, Validation loss: 3.4701, Validation accuracy: 0.2421\n",
            "Epoch 1/2, steps: 8, Train loss: 0.1598, Test loss: 3.5713, Test accuracy: 0.2578\n",
            "Epoch 1/2, steps: 8, Train loss: 0.0000, Validation loss: 3.3537, Validation accuracy: 0.2604\n",
            "Epoch 1/2, steps: 9, Train loss: 0.1336, Test loss: 3.5053, Test accuracy: 0.2718\n",
            "Epoch 1/2, steps: 9, Train loss: 0.0000, Validation loss: 3.2790, Validation accuracy: 0.2824\n",
            "Epoch 1/2, steps: 10, Train loss: 0.1457, Test loss: 3.4812, Test accuracy: 0.2779\n",
            "Epoch 1/2, steps: 10, Train loss: 0.0000, Validation loss: 3.2400, Validation accuracy: 0.2861\n",
            "Epoch 1/2, steps: 11, Train loss: 0.1320, Test loss: 3.4599, Test accuracy: 0.2853\n",
            "Epoch 1/2, steps: 11, Train loss: 0.0000, Validation loss: 3.2063, Validation accuracy: 0.3032\n",
            "Epoch 1/2, steps: 12, Train loss: 0.1443, Test loss: 3.4024, Test accuracy: 0.2944\n",
            "Epoch 1/2, steps: 12, Train loss: 0.0000, Validation loss: 3.1380, Validation accuracy: 0.3166\n",
            "Epoch 1/2, steps: 13, Train loss: 0.1480, Test loss: 3.2760, Test accuracy: 0.3219\n",
            "Epoch 1/2, steps: 13, Train loss: 0.0000, Validation loss: 3.0054, Validation accuracy: 0.3313\n",
            "Epoch 1/2, steps: 14, Train loss: 0.1413, Test loss: 3.1346, Test accuracy: 0.3464\n",
            "Epoch 1/2, steps: 14, Train loss: 0.0000, Validation loss: 2.8571, Validation accuracy: 0.3582\n",
            "Epoch 1/2, steps: 15, Train loss: 0.1292, Test loss: 2.9968, Test accuracy: 0.3751\n",
            "Epoch 1/2, steps: 15, Train loss: 0.0000, Validation loss: 2.7085, Validation accuracy: 0.3936\n",
            "Epoch 1/2, steps: 16, Train loss: 0.1508, Test loss: 2.8673, Test accuracy: 0.4050\n",
            "Epoch 1/2, steps: 16, Train loss: 0.0000, Validation loss: 2.5772, Validation accuracy: 0.4205\n",
            "Epoch 1/2, steps: 17, Train loss: 0.1424, Test loss: 2.7968, Test accuracy: 0.4160\n",
            "Epoch 1/2, steps: 17, Train loss: 0.0000, Validation loss: 2.5032, Validation accuracy: 0.4230\n",
            "Epoch 1/2, steps: 18, Train loss: 0.1160, Test loss: 2.7451, Test accuracy: 0.4062\n",
            "Epoch 1/2, steps: 18, Train loss: 0.0000, Validation loss: 2.4638, Validation accuracy: 0.4132\n",
            "Epoch 1/2, steps: 19, Train loss: 0.1132, Test loss: 2.7202, Test accuracy: 0.4032\n",
            "Epoch 1/2, steps: 19, Train loss: 0.0000, Validation loss: 2.4605, Validation accuracy: 0.4059\n",
            "Epoch 1/2, steps: 20, Train loss: 0.1311, Test loss: 2.7052, Test accuracy: 0.4075\n",
            "Epoch 1/2, steps: 20, Train loss: 0.0000, Validation loss: 2.4598, Validation accuracy: 0.4156\n",
            "Epoch 1/2, steps: 21, Train loss: 0.1233, Test loss: 2.6731, Test accuracy: 0.4148\n",
            "Epoch 1/2, steps: 21, Train loss: 0.0000, Validation loss: 2.4332, Validation accuracy: 0.4132\n",
            "Epoch 1/2, steps: 22, Train loss: 0.1257, Test loss: 2.6411, Test accuracy: 0.4136\n",
            "Epoch 1/2, steps: 22, Train loss: 0.0000, Validation loss: 2.4075, Validation accuracy: 0.4010\n",
            "Epoch 1/2, steps: 23, Train loss: 0.1123, Test loss: 2.6023, Test accuracy: 0.4197\n",
            "Epoch 1/2, steps: 23, Train loss: 0.0000, Validation loss: 2.3735, Validation accuracy: 0.4242\n",
            "Epoch 1/2, steps: 24, Train loss: 0.1289, Test loss: 2.5680, Test accuracy: 0.4301\n",
            "Epoch 1/2, steps: 24, Train loss: 0.0000, Validation loss: 2.3338, Validation accuracy: 0.4303\n",
            "Epoch 1/2, steps: 25, Train loss: 0.1250, Test loss: 2.3661, Test accuracy: 0.4567\n",
            "Epoch 1/2, steps: 25, Train loss: 0.0000, Validation loss: 2.3173, Validation accuracy: 0.4401\n",
            "Epoch 1/2, steps: 26, Train loss: 0.1175, Test loss: 2.5811, Test accuracy: 0.4465\n",
            "Epoch 1/2, steps: 26, Train loss: 0.0000, Validation loss: 2.3385, Validation accuracy: 0.4474\n",
            "Epoch 1/2, steps: 27, Train loss: 0.1353, Test loss: 2.6177, Test accuracy: 0.4447\n",
            "Epoch 1/2, steps: 27, Train loss: 0.0000, Validation loss: 2.3568, Validation accuracy: 0.4499\n",
            "Epoch 1/2, steps: 28, Train loss: 0.1070, Test loss: 2.5929, Test accuracy: 0.4465\n",
            "Epoch 1/2, steps: 28, Train loss: 0.0000, Validation loss: 2.3279, Validation accuracy: 0.4535\n",
            "Epoch 1/2, steps: 29, Train loss: 0.1234, Test loss: 2.5385, Test accuracy: 0.4520\n",
            "Epoch 1/2, steps: 29, Train loss: 0.0000, Validation loss: 2.2812, Validation accuracy: 0.4548\n",
            "Epoch 1/2, steps: 30, Train loss: 0.1172, Test loss: 2.4589, Test accuracy: 0.4600\n",
            "Epoch 1/2, steps: 30, Train loss: 0.0000, Validation loss: 2.2179, Validation accuracy: 0.4694\n",
            "Epoch 1/2, steps: 31, Train loss: 0.1155, Test loss: 2.3520, Test accuracy: 0.4789\n",
            "Epoch 1/2, steps: 31, Train loss: 0.0000, Validation loss: 2.1306, Validation accuracy: 0.4902\n",
            "Epoch 1/2, steps: 32, Train loss: 0.0917, Test loss: 2.2538, Test accuracy: 0.4966\n",
            "Epoch 1/2, steps: 32, Train loss: 0.0000, Validation loss: 2.0529, Validation accuracy: 0.4951\n",
            "Epoch 1/2, steps: 33, Train loss: 0.0934, Test loss: 2.2077, Test accuracy: 0.4997\n",
            "Epoch 1/2, steps: 33, Train loss: 0.0000, Validation loss: 2.0137, Validation accuracy: 0.4927\n",
            "Epoch 1/2, steps: 34, Train loss: 0.1023, Test loss: 2.1734, Test accuracy: 0.5027\n",
            "Epoch 1/2, steps: 34, Train loss: 0.0000, Validation loss: 1.9869, Validation accuracy: 0.5061\n",
            "Epoch 1/2, steps: 35, Train loss: 0.0858, Test loss: 2.1673, Test accuracy: 0.5095\n",
            "Epoch 1/2, steps: 35, Train loss: 0.0000, Validation loss: 1.9927, Validation accuracy: 0.5061\n",
            "Epoch 1/2, steps: 36, Train loss: 0.1095, Test loss: 2.1400, Test accuracy: 0.5131\n",
            "Epoch 1/2, steps: 36, Train loss: 0.0000, Validation loss: 1.9707, Validation accuracy: 0.5061\n",
            "Epoch 1/2, steps: 37, Train loss: 0.0990, Test loss: 2.0927, Test accuracy: 0.5180\n",
            "Epoch 1/2, steps: 37, Train loss: 0.0000, Validation loss: 1.9400, Validation accuracy: 0.5159\n",
            "Epoch 1/2, steps: 38, Train loss: 0.1020, Test loss: 2.0587, Test accuracy: 0.5290\n",
            "Epoch 1/2, steps: 38, Train loss: 0.0000, Validation loss: 1.9170, Validation accuracy: 0.5208\n",
            "Epoch 1/2, steps: 39, Train loss: 0.1016, Test loss: 2.0249, Test accuracy: 0.5333\n",
            "Epoch 1/2, steps: 39, Train loss: 0.0000, Validation loss: 1.8830, Validation accuracy: 0.5281\n",
            "Epoch 1/2, steps: 40, Train loss: 0.0931, Test loss: 2.0127, Test accuracy: 0.5345\n",
            "Epoch 1/2, steps: 40, Train loss: 0.0000, Validation loss: 1.8610, Validation accuracy: 0.5342\n",
            "Epoch 1/2, steps: 41, Train loss: 0.0986, Test loss: 2.0002, Test accuracy: 0.5425\n",
            "Epoch 1/2, steps: 41, Train loss: 0.0000, Validation loss: 1.8238, Validation accuracy: 0.5440\n",
            "Epoch 1/2, steps: 42, Train loss: 0.0787, Test loss: 1.9693, Test accuracy: 0.5547\n",
            "Epoch 1/2, steps: 42, Train loss: 0.0000, Validation loss: 1.7746, Validation accuracy: 0.5599\n",
            "Epoch 1/2, steps: 43, Train loss: 0.0983, Test loss: 1.9330, Test accuracy: 0.5644\n",
            "Epoch 1/2, steps: 43, Train loss: 0.0000, Validation loss: 1.7340, Validation accuracy: 0.5746\n",
            "Epoch 1/2, steps: 44, Train loss: 0.0756, Test loss: 1.9019, Test accuracy: 0.5767\n",
            "Epoch 1/2, steps: 44, Train loss: 0.0000, Validation loss: 1.7011, Validation accuracy: 0.5831\n",
            "Epoch 1/2, steps: 45, Train loss: 0.0993, Test loss: 1.8699, Test accuracy: 0.5834\n",
            "Epoch 1/2, steps: 45, Train loss: 0.0000, Validation loss: 1.6684, Validation accuracy: 0.5929\n",
            "Epoch 1/2, steps: 46, Train loss: 0.1064, Test loss: 1.8436, Test accuracy: 0.5919\n",
            "Epoch 1/2, steps: 46, Train loss: 0.0000, Validation loss: 1.6354, Validation accuracy: 0.6051\n",
            "Epoch 1/2, steps: 47, Train loss: 0.1109, Test loss: 1.7980, Test accuracy: 0.5987\n",
            "Epoch 1/2, steps: 47, Train loss: 0.0000, Validation loss: 1.5812, Validation accuracy: 0.6088\n",
            "Epoch 1/2, steps: 48, Train loss: 0.0961, Test loss: 1.7431, Test accuracy: 0.6066\n",
            "Epoch 1/2, steps: 48, Train loss: 0.0000, Validation loss: 1.5247, Validation accuracy: 0.6222\n",
            "Epoch 1/2, steps: 49, Train loss: 0.1135, Test loss: 1.6745, Test accuracy: 0.6231\n",
            "Epoch 1/2, steps: 49, Train loss: 0.0000, Validation loss: 1.4560, Validation accuracy: 0.6443\n",
            "Epoch 1/2, steps: 50, Train loss: 0.1018, Test loss: 1.4892, Test accuracy: 0.6313\n",
            "Epoch 1/2, steps: 50, Train loss: 0.0000, Validation loss: 1.4072, Validation accuracy: 0.6650\n",
            "Epoch 1/2, steps: 51, Train loss: 0.1010, Test loss: 1.5829, Test accuracy: 0.6481\n",
            "Epoch 1/2, steps: 51, Train loss: 0.0000, Validation loss: 1.3936, Validation accuracy: 0.6626\n",
            "Epoch 1/2, steps: 52, Train loss: 0.0849, Test loss: 1.6042, Test accuracy: 0.6402\n",
            "Epoch 1/2, steps: 52, Train loss: 0.0000, Validation loss: 1.4122, Validation accuracy: 0.6553\n",
            "Epoch 1/2, steps: 53, Train loss: 0.0945, Test loss: 1.6306, Test accuracy: 0.6359\n",
            "Epoch 1/2, steps: 53, Train loss: 0.0000, Validation loss: 1.4439, Validation accuracy: 0.6418\n",
            "Epoch 1/2, steps: 54, Train loss: 0.0889, Test loss: 1.6515, Test accuracy: 0.6280\n",
            "Epoch 1/2, steps: 54, Train loss: 0.0000, Validation loss: 1.4686, Validation accuracy: 0.6381\n",
            "Epoch 1/2, steps: 55, Train loss: 0.0830, Test loss: 1.6928, Test accuracy: 0.6194\n",
            "Epoch 1/2, steps: 55, Train loss: 0.0000, Validation loss: 1.5195, Validation accuracy: 0.6271\n",
            "Epoch 1/2, steps: 56, Train loss: 0.0943, Test loss: 1.6829, Test accuracy: 0.6151\n",
            "Epoch 1/2, steps: 56, Train loss: 0.0000, Validation loss: 1.5200, Validation accuracy: 0.6308\n",
            "Epoch 1/2, steps: 57, Train loss: 0.0882, Test loss: 1.6366, Test accuracy: 0.6261\n",
            "Epoch 1/2, steps: 57, Train loss: 0.0000, Validation loss: 1.4917, Validation accuracy: 0.6357\n",
            "Epoch 1/2, steps: 58, Train loss: 0.0848, Test loss: 1.5685, Test accuracy: 0.6353\n",
            "Epoch 1/2, steps: 58, Train loss: 0.0000, Validation loss: 1.4357, Validation accuracy: 0.6430\n",
            "Epoch 1/2, steps: 59, Train loss: 0.0853, Test loss: 1.5193, Test accuracy: 0.6481\n",
            "Epoch 1/2, steps: 59, Train loss: 0.0000, Validation loss: 1.3977, Validation accuracy: 0.6540\n",
            "Epoch 1/2, steps: 60, Train loss: 0.0951, Test loss: 1.4874, Test accuracy: 0.6506\n",
            "Epoch 1/2, steps: 60, Train loss: 0.0000, Validation loss: 1.3679, Validation accuracy: 0.6614\n",
            "Epoch 1/2, steps: 61, Train loss: 0.0908, Test loss: 1.4679, Test accuracy: 0.6549\n",
            "Epoch 1/2, steps: 61, Train loss: 0.0000, Validation loss: 1.3451, Validation accuracy: 0.6638\n",
            "Epoch 1/2, steps: 62, Train loss: 0.0993, Test loss: 1.4503, Test accuracy: 0.6518\n",
            "Epoch 1/2, steps: 62, Train loss: 0.0000, Validation loss: 1.3152, Validation accuracy: 0.6565\n",
            "Epoch 1/2, steps: 63, Train loss: 0.0790, Test loss: 1.4032, Test accuracy: 0.6536\n",
            "Epoch 1/2, steps: 63, Train loss: 0.0000, Validation loss: 1.2569, Validation accuracy: 0.6699\n",
            "Epoch 1/2, steps: 64, Train loss: 0.1003, Test loss: 1.3510, Test accuracy: 0.6689\n",
            "Epoch 1/2, steps: 64, Train loss: 0.0000, Validation loss: 1.1972, Validation accuracy: 0.6809\n",
            "Epoch 1/2, steps: 65, Train loss: 0.0679, Test loss: 1.3187, Test accuracy: 0.6842\n",
            "Epoch 1/2, steps: 65, Train loss: 0.0000, Validation loss: 1.1621, Validation accuracy: 0.6846\n",
            "Epoch 1/2, steps: 66, Train loss: 0.0757, Test loss: 1.3078, Test accuracy: 0.6860\n",
            "Epoch 1/2, steps: 66, Train loss: 0.0000, Validation loss: 1.1460, Validation accuracy: 0.6919\n",
            "Epoch 1/2, steps: 67, Train loss: 0.0662, Test loss: 1.3051, Test accuracy: 0.6848\n",
            "Epoch 1/2, steps: 67, Train loss: 0.0000, Validation loss: 1.1363, Validation accuracy: 0.6944\n",
            "Epoch 1/2, steps: 68, Train loss: 0.0887, Test loss: 1.2978, Test accuracy: 0.6866\n",
            "Epoch 1/2, steps: 68, Train loss: 0.0000, Validation loss: 1.1295, Validation accuracy: 0.6980\n",
            "Epoch 1/2, steps: 69, Train loss: 0.0601, Test loss: 1.2978, Test accuracy: 0.6921\n",
            "Epoch 1/2, steps: 69, Train loss: 0.0000, Validation loss: 1.1334, Validation accuracy: 0.6980\n",
            "Epoch 1/2, steps: 70, Train loss: 0.0826, Test loss: 1.2963, Test accuracy: 0.6927\n",
            "Epoch 1/2, steps: 70, Train loss: 0.0000, Validation loss: 1.1345, Validation accuracy: 0.7017\n",
            "Epoch 1/2, steps: 71, Train loss: 0.0883, Test loss: 1.2876, Test accuracy: 0.6982\n",
            "Epoch 1/2, steps: 71, Train loss: 0.0000, Validation loss: 1.1313, Validation accuracy: 0.7029\n",
            "Epoch 1/2, steps: 72, Train loss: 0.0795, Test loss: 1.2919, Test accuracy: 0.7001\n",
            "Epoch 1/2, steps: 72, Train loss: 0.0000, Validation loss: 1.1359, Validation accuracy: 0.7078\n",
            "Epoch 1/2, steps: 73, Train loss: 0.0754, Test loss: 1.2935, Test accuracy: 0.6976\n",
            "Epoch 1/2, steps: 73, Train loss: 0.0000, Validation loss: 1.1357, Validation accuracy: 0.7152\n",
            "Epoch 1/2, steps: 74, Train loss: 0.0790, Test loss: 1.2958, Test accuracy: 0.6982\n",
            "Epoch 1/2, steps: 74, Train loss: 0.0000, Validation loss: 1.1385, Validation accuracy: 0.7200\n",
            "Epoch 1/2, steps: 75, Train loss: 0.0833, Test loss: 1.2077, Test accuracy: 0.6874\n",
            "Epoch 1/2, steps: 75, Train loss: 0.0000, Validation loss: 1.1473, Validation accuracy: 0.7176\n",
            "Epoch 1/2, steps: 76, Train loss: 0.0720, Test loss: 1.3126, Test accuracy: 0.7062\n",
            "Epoch 1/2, steps: 76, Train loss: 0.0000, Validation loss: 1.1516, Validation accuracy: 0.7127\n",
            "Epoch 1/2, steps: 77, Train loss: 0.0685, Test loss: 1.3377, Test accuracy: 0.7037\n",
            "Epoch 1/2, steps: 77, Train loss: 0.0000, Validation loss: 1.1617, Validation accuracy: 0.7090\n",
            "Epoch 1/2, steps: 78, Train loss: 0.0929, Test loss: 1.3439, Test accuracy: 0.6982\n",
            "Epoch 1/2, steps: 78, Train loss: 0.0000, Validation loss: 1.1651, Validation accuracy: 0.7066\n",
            "Epoch 1/2, steps: 79, Train loss: 0.0746, Test loss: 1.3129, Test accuracy: 0.7001\n",
            "Epoch 1/2, steps: 79, Train loss: 0.0000, Validation loss: 1.1409, Validation accuracy: 0.7103\n",
            "Epoch 1/2, steps: 80, Train loss: 0.0764, Test loss: 1.2700, Test accuracy: 0.7049\n",
            "Epoch 1/2, steps: 80, Train loss: 0.0000, Validation loss: 1.1059, Validation accuracy: 0.7152\n",
            "Epoch 1/2, steps: 81, Train loss: 0.0634, Test loss: 1.2407, Test accuracy: 0.7117\n",
            "Epoch 1/2, steps: 81, Train loss: 0.0000, Validation loss: 1.0872, Validation accuracy: 0.7200\n",
            "Epoch 1/2, steps: 82, Train loss: 0.0732, Test loss: 1.2328, Test accuracy: 0.7166\n",
            "Epoch 1/2, steps: 82, Train loss: 0.0000, Validation loss: 1.0904, Validation accuracy: 0.7249\n",
            "Epoch 1/2, steps: 83, Train loss: 0.0705, Test loss: 1.2601, Test accuracy: 0.7092\n",
            "Epoch 1/2, steps: 83, Train loss: 0.0000, Validation loss: 1.1176, Validation accuracy: 0.7005\n",
            "Epoch 1/2, steps: 84, Train loss: 0.0621, Test loss: 1.2817, Test accuracy: 0.6933\n",
            "Epoch 1/2, steps: 84, Train loss: 0.0000, Validation loss: 1.1345, Validation accuracy: 0.6993\n",
            "Epoch 1/2, steps: 85, Train loss: 0.0744, Test loss: 1.2881, Test accuracy: 0.6897\n",
            "Epoch 1/2, steps: 85, Train loss: 0.0000, Validation loss: 1.1428, Validation accuracy: 0.7017\n",
            "Epoch 1/2, steps: 86, Train loss: 0.0855, Test loss: 1.2535, Test accuracy: 0.6970\n",
            "Epoch 1/2, steps: 86, Train loss: 0.0000, Validation loss: 1.1173, Validation accuracy: 0.7103\n",
            "Epoch 1/2, steps: 87, Train loss: 0.0740, Test loss: 1.2165, Test accuracy: 0.7068\n",
            "Epoch 1/2, steps: 87, Train loss: 0.0000, Validation loss: 1.0871, Validation accuracy: 0.7176\n",
            "Epoch 1/2, steps: 88, Train loss: 0.0656, Test loss: 1.1963, Test accuracy: 0.7123\n",
            "Epoch 1/2, steps: 88, Train loss: 0.0000, Validation loss: 1.0788, Validation accuracy: 0.7323\n",
            "Epoch 1/2, steps: 89, Train loss: 0.0724, Test loss: 1.1769, Test accuracy: 0.7196\n",
            "Epoch 1/2, steps: 89, Train loss: 0.0000, Validation loss: 1.0715, Validation accuracy: 0.7335\n",
            "Epoch 1/2, steps: 90, Train loss: 0.0789, Test loss: 1.1524, Test accuracy: 0.7227\n",
            "Epoch 1/2, steps: 90, Train loss: 0.0000, Validation loss: 1.0553, Validation accuracy: 0.7311\n",
            "Epoch 1/2, steps: 91, Train loss: 0.0631, Test loss: 1.1336, Test accuracy: 0.7233\n",
            "Epoch 1/2, steps: 91, Train loss: 0.0000, Validation loss: 1.0386, Validation accuracy: 0.7408\n",
            "Epoch 1/2, steps: 92, Train loss: 0.0683, Test loss: 1.1099, Test accuracy: 0.7361\n",
            "Epoch 1/2, steps: 92, Train loss: 0.0000, Validation loss: 1.0180, Validation accuracy: 0.7592\n",
            "Epoch 1/2, steps: 93, Train loss: 0.0856, Test loss: 1.0795, Test accuracy: 0.7508\n",
            "Epoch 1/2, steps: 93, Train loss: 0.0000, Validation loss: 0.9918, Validation accuracy: 0.7518\n",
            "Epoch 1/2, steps: 94, Train loss: 0.0839, Test loss: 1.0735, Test accuracy: 0.7483\n",
            "Epoch 1/2, steps: 94, Train loss: 0.0000, Validation loss: 0.9837, Validation accuracy: 0.7531\n",
            "Epoch 1/2, steps: 95, Train loss: 0.0618, Test loss: 1.1012, Test accuracy: 0.7404\n",
            "Epoch 1/2, steps: 95, Train loss: 0.0000, Validation loss: 0.9971, Validation accuracy: 0.7445\n",
            "Epoch 1/2, steps: 96, Train loss: 0.0642, Test loss: 1.1388, Test accuracy: 0.7306\n",
            "Epoch 1/2, steps: 96, Train loss: 0.0000, Validation loss: 1.0071, Validation accuracy: 0.7445\n",
            "Epoch 1/2, steps: 97, Train loss: 0.0744, Test loss: 1.1700, Test accuracy: 0.7288\n",
            "Epoch 1/2, steps: 97, Train loss: 0.0000, Validation loss: 1.0126, Validation accuracy: 0.7469\n",
            "Epoch 1/2, steps: 98, Train loss: 0.0774, Test loss: 1.1679, Test accuracy: 0.7330\n",
            "Epoch 1/2, steps: 98, Train loss: 0.0000, Validation loss: 0.9963, Validation accuracy: 0.7482\n",
            "Epoch 1/2, steps: 99, Train loss: 0.0707, Test loss: 1.1633, Test accuracy: 0.7361\n",
            "Epoch 1/2, steps: 99, Train loss: 0.0000, Validation loss: 0.9814, Validation accuracy: 0.7469\n",
            "Epoch 1/2, steps: 100, Train loss: 0.0596, Test loss: 1.0598, Test accuracy: 0.7265\n",
            "Epoch 1/2, steps: 100, Train loss: 0.0000, Validation loss: 0.9692, Validation accuracy: 0.7543\n",
            "Epoch 1/2, steps: 101, Train loss: 0.0503, Test loss: 1.1412, Test accuracy: 0.7361\n",
            "Epoch 1/2, steps: 101, Train loss: 0.0000, Validation loss: 0.9666, Validation accuracy: 0.7579\n",
            "Epoch 1/2, steps: 102, Train loss: 0.0775, Test loss: 1.1394, Test accuracy: 0.7385\n",
            "Epoch 1/2, steps: 102, Train loss: 0.0000, Validation loss: 0.9548, Validation accuracy: 0.7592\n",
            "Epoch 1/2, steps: 103, Train loss: 0.0759, Test loss: 1.1515, Test accuracy: 0.7355\n",
            "Epoch 1/2, steps: 103, Train loss: 0.0000, Validation loss: 0.9473, Validation accuracy: 0.7702\n",
            "Epoch: 2/2\n",
            "Epoch 2/2, steps: 104, Train loss: 0.0998, Test loss: 3.3795, Test accuracy: 0.4911\n",
            "Epoch 2/2, steps: 104, Train loss: 0.0000, Validation loss: 1.5496, Validation accuracy: 0.8020\n",
            "Epoch 2/2, steps: 105, Train loss: 0.0972, Test loss: 1.9035, Test accuracy: 0.7960\n",
            "Epoch 2/2, steps: 105, Train loss: 0.0000, Validation loss: 1.5336, Validation accuracy: 0.7910\n",
            "Epoch 2/2, steps: 106, Train loss: 0.0940, Test loss: 1.7790, Test accuracy: 0.7886\n",
            "Epoch 2/2, steps: 106, Train loss: 0.0000, Validation loss: 1.5149, Validation accuracy: 0.7922\n",
            "Epoch 2/2, steps: 107, Train loss: 0.0946, Test loss: 1.7535, Test accuracy: 0.7831\n",
            "Epoch 2/2, steps: 107, Train loss: 0.0000, Validation loss: 1.4911, Validation accuracy: 0.7897\n",
            "Epoch 2/2, steps: 108, Train loss: 0.0897, Test loss: 1.7334, Test accuracy: 0.7746\n",
            "Epoch 2/2, steps: 108, Train loss: 0.0000, Validation loss: 1.4653, Validation accuracy: 0.7812\n",
            "Epoch 2/2, steps: 109, Train loss: 0.0925, Test loss: 1.7097, Test accuracy: 0.7660\n",
            "Epoch 2/2, steps: 109, Train loss: 0.0000, Validation loss: 1.4389, Validation accuracy: 0.7763\n",
            "Epoch 2/2, steps: 110, Train loss: 0.0847, Test loss: 1.6817, Test accuracy: 0.7618\n",
            "Epoch 2/2, steps: 110, Train loss: 0.0000, Validation loss: 1.4103, Validation accuracy: 0.7677\n",
            "Epoch 2/2, steps: 111, Train loss: 0.0782, Test loss: 1.6511, Test accuracy: 0.7569\n",
            "Epoch 2/2, steps: 111, Train loss: 0.0000, Validation loss: 1.3822, Validation accuracy: 0.7592\n",
            "Epoch 2/2, steps: 112, Train loss: 0.0969, Test loss: 1.6207, Test accuracy: 0.7453\n",
            "Epoch 2/2, steps: 112, Train loss: 0.0000, Validation loss: 1.3557, Validation accuracy: 0.7482\n",
            "Epoch 2/2, steps: 113, Train loss: 0.0898, Test loss: 1.5907, Test accuracy: 0.7349\n",
            "Epoch 2/2, steps: 113, Train loss: 0.0000, Validation loss: 1.3312, Validation accuracy: 0.7323\n",
            "Epoch 2/2, steps: 114, Train loss: 0.0846, Test loss: 1.5597, Test accuracy: 0.7276\n",
            "Epoch 2/2, steps: 114, Train loss: 0.0000, Validation loss: 1.3051, Validation accuracy: 0.7286\n",
            "Epoch 2/2, steps: 115, Train loss: 0.0815, Test loss: 1.5246, Test accuracy: 0.7282\n",
            "Epoch 2/2, steps: 115, Train loss: 0.0000, Validation loss: 1.2761, Validation accuracy: 0.7323\n",
            "Epoch 2/2, steps: 116, Train loss: 0.0773, Test loss: 1.4877, Test accuracy: 0.7318\n",
            "Epoch 2/2, steps: 116, Train loss: 0.0000, Validation loss: 1.2448, Validation accuracy: 0.7347\n",
            "Epoch 2/2, steps: 117, Train loss: 0.0815, Test loss: 1.4529, Test accuracy: 0.7337\n",
            "Epoch 2/2, steps: 117, Train loss: 0.0000, Validation loss: 1.2156, Validation accuracy: 0.7445\n",
            "Epoch 2/2, steps: 118, Train loss: 0.0805, Test loss: 1.4205, Test accuracy: 0.7428\n",
            "Epoch 2/2, steps: 118, Train loss: 0.0000, Validation loss: 1.1854, Validation accuracy: 0.7482\n",
            "Epoch 2/2, steps: 119, Train loss: 0.0730, Test loss: 1.3959, Test accuracy: 0.7477\n",
            "Epoch 2/2, steps: 119, Train loss: 0.0000, Validation loss: 1.1629, Validation accuracy: 0.7506\n",
            "Epoch 2/2, steps: 120, Train loss: 0.0703, Test loss: 1.3727, Test accuracy: 0.7489\n",
            "Epoch 2/2, steps: 120, Train loss: 0.0000, Validation loss: 1.1453, Validation accuracy: 0.7628\n",
            "Epoch 2/2, steps: 121, Train loss: 0.0797, Test loss: 1.3501, Test accuracy: 0.7538\n",
            "Epoch 2/2, steps: 121, Train loss: 0.0000, Validation loss: 1.1319, Validation accuracy: 0.7579\n",
            "Epoch 2/2, steps: 122, Train loss: 0.0693, Test loss: 1.3232, Test accuracy: 0.7514\n",
            "Epoch 2/2, steps: 122, Train loss: 0.0000, Validation loss: 1.1155, Validation accuracy: 0.7616\n",
            "Epoch 2/2, steps: 123, Train loss: 0.0616, Test loss: 1.3008, Test accuracy: 0.7544\n",
            "Epoch 2/2, steps: 123, Train loss: 0.0000, Validation loss: 1.1038, Validation accuracy: 0.7592\n",
            "Epoch 2/2, steps: 124, Train loss: 0.0733, Test loss: 1.2763, Test accuracy: 0.7514\n",
            "Epoch 2/2, steps: 124, Train loss: 0.0000, Validation loss: 1.0882, Validation accuracy: 0.7616\n",
            "Epoch 2/2, steps: 125, Train loss: 0.0756, Test loss: 1.1534, Test accuracy: 0.7534\n",
            "Epoch 2/2, steps: 125, Train loss: 0.0000, Validation loss: 1.0703, Validation accuracy: 0.7689\n",
            "Epoch 2/2, steps: 126, Train loss: 0.0733, Test loss: 1.2255, Test accuracy: 0.7575\n",
            "Epoch 2/2, steps: 126, Train loss: 0.0000, Validation loss: 1.0555, Validation accuracy: 0.7738\n",
            "Epoch 2/2, steps: 127, Train loss: 0.0734, Test loss: 1.2165, Test accuracy: 0.7618\n",
            "Epoch 2/2, steps: 127, Train loss: 0.0000, Validation loss: 1.0440, Validation accuracy: 0.7702\n",
            "Epoch 2/2, steps: 128, Train loss: 0.0809, Test loss: 1.1985, Test accuracy: 0.7569\n",
            "Epoch 2/2, steps: 128, Train loss: 0.0000, Validation loss: 1.0280, Validation accuracy: 0.7714\n",
            "Epoch 2/2, steps: 129, Train loss: 0.0871, Test loss: 1.1792, Test accuracy: 0.7630\n",
            "Epoch 2/2, steps: 129, Train loss: 0.0000, Validation loss: 1.0093, Validation accuracy: 0.7726\n",
            "Epoch 2/2, steps: 130, Train loss: 0.0688, Test loss: 1.1620, Test accuracy: 0.7642\n",
            "Epoch 2/2, steps: 130, Train loss: 0.0000, Validation loss: 0.9941, Validation accuracy: 0.7702\n",
            "Epoch 2/2, steps: 131, Train loss: 0.0661, Test loss: 1.1459, Test accuracy: 0.7611\n",
            "Epoch 2/2, steps: 131, Train loss: 0.0000, Validation loss: 0.9773, Validation accuracy: 0.7702\n",
            "Epoch 2/2, steps: 132, Train loss: 0.0589, Test loss: 1.1333, Test accuracy: 0.7630\n",
            "Epoch 2/2, steps: 132, Train loss: 0.0000, Validation loss: 0.9629, Validation accuracy: 0.7787\n",
            "Epoch 2/2, steps: 133, Train loss: 0.0640, Test loss: 1.1215, Test accuracy: 0.7715\n",
            "Epoch 2/2, steps: 133, Train loss: 0.0000, Validation loss: 0.9473, Validation accuracy: 0.7800\n",
            "Epoch 2/2, steps: 134, Train loss: 0.0664, Test loss: 1.1161, Test accuracy: 0.7691\n",
            "Epoch 2/2, steps: 134, Train loss: 0.0000, Validation loss: 0.9333, Validation accuracy: 0.7812\n",
            "Epoch 2/2, steps: 135, Train loss: 0.0655, Test loss: 1.1071, Test accuracy: 0.7660\n",
            "Epoch 2/2, steps: 135, Train loss: 0.0000, Validation loss: 0.9176, Validation accuracy: 0.7885\n",
            "Epoch 2/2, steps: 136, Train loss: 0.0755, Test loss: 1.0904, Test accuracy: 0.7758\n",
            "Epoch 2/2, steps: 136, Train loss: 0.0000, Validation loss: 0.9010, Validation accuracy: 0.7885\n",
            "Epoch 2/2, steps: 137, Train loss: 0.0586, Test loss: 1.0759, Test accuracy: 0.7770\n",
            "Epoch 2/2, steps: 137, Train loss: 0.0000, Validation loss: 0.8910, Validation accuracy: 0.7946\n",
            "Epoch 2/2, steps: 138, Train loss: 0.0600, Test loss: 1.0696, Test accuracy: 0.7813\n",
            "Epoch 2/2, steps: 138, Train loss: 0.0000, Validation loss: 0.8876, Validation accuracy: 0.7958\n",
            "Epoch 2/2, steps: 139, Train loss: 0.0659, Test loss: 1.0686, Test accuracy: 0.7825\n",
            "Epoch 2/2, steps: 139, Train loss: 0.0000, Validation loss: 0.8879, Validation accuracy: 0.7910\n",
            "Epoch 2/2, steps: 140, Train loss: 0.0659, Test loss: 1.0688, Test accuracy: 0.7789\n",
            "Epoch 2/2, steps: 140, Train loss: 0.0000, Validation loss: 0.8871, Validation accuracy: 0.7922\n",
            "Epoch 2/2, steps: 141, Train loss: 0.0636, Test loss: 1.0665, Test accuracy: 0.7825\n",
            "Epoch 2/2, steps: 141, Train loss: 0.0000, Validation loss: 0.8859, Validation accuracy: 0.7910\n",
            "Epoch 2/2, steps: 142, Train loss: 0.0534, Test loss: 1.0649, Test accuracy: 0.7856\n",
            "Epoch 2/2, steps: 142, Train loss: 0.0000, Validation loss: 0.8828, Validation accuracy: 0.7824\n",
            "Epoch 2/2, steps: 143, Train loss: 0.0643, Test loss: 1.0581, Test accuracy: 0.7813\n",
            "Epoch 2/2, steps: 143, Train loss: 0.0000, Validation loss: 0.8743, Validation accuracy: 0.7897\n",
            "Epoch 2/2, steps: 144, Train loss: 0.0549, Test loss: 1.0560, Test accuracy: 0.7874\n",
            "Epoch 2/2, steps: 144, Train loss: 0.0000, Validation loss: 0.8678, Validation accuracy: 0.7958\n",
            "Epoch 2/2, steps: 145, Train loss: 0.0583, Test loss: 1.0553, Test accuracy: 0.7856\n",
            "Epoch 2/2, steps: 145, Train loss: 0.0000, Validation loss: 0.8644, Validation accuracy: 0.7946\n",
            "Epoch 2/2, steps: 146, Train loss: 0.0630, Test loss: 1.0595, Test accuracy: 0.7856\n",
            "Epoch 2/2, steps: 146, Train loss: 0.0000, Validation loss: 0.8642, Validation accuracy: 0.7910\n",
            "Epoch 2/2, steps: 147, Train loss: 0.0541, Test loss: 1.0666, Test accuracy: 0.7795\n",
            "Epoch 2/2, steps: 147, Train loss: 0.0000, Validation loss: 0.8699, Validation accuracy: 0.7958\n",
            "Epoch 2/2, steps: 148, Train loss: 0.0648, Test loss: 1.0753, Test accuracy: 0.7813\n",
            "Epoch 2/2, steps: 148, Train loss: 0.0000, Validation loss: 0.8757, Validation accuracy: 0.7885\n",
            "Epoch 2/2, steps: 149, Train loss: 0.0614, Test loss: 1.0796, Test accuracy: 0.7807\n",
            "Epoch 2/2, steps: 149, Train loss: 0.0000, Validation loss: 0.8795, Validation accuracy: 0.7800\n",
            "Epoch 2/2, steps: 150, Train loss: 0.0686, Test loss: 0.9976, Test accuracy: 0.7692\n",
            "Epoch 2/2, steps: 150, Train loss: 0.0000, Validation loss: 0.8800, Validation accuracy: 0.7775\n",
            "Epoch 2/2, steps: 151, Train loss: 0.0540, Test loss: 1.0790, Test accuracy: 0.7709\n",
            "Epoch 2/2, steps: 151, Train loss: 0.0000, Validation loss: 0.8848, Validation accuracy: 0.7775\n",
            "Epoch 2/2, steps: 152, Train loss: 0.0694, Test loss: 1.0847, Test accuracy: 0.7734\n",
            "Epoch 2/2, steps: 152, Train loss: 0.0000, Validation loss: 0.8873, Validation accuracy: 0.7763\n",
            "Epoch 2/2, steps: 153, Train loss: 0.0612, Test loss: 1.0852, Test accuracy: 0.7691\n",
            "Epoch 2/2, steps: 153, Train loss: 0.0000, Validation loss: 0.8914, Validation accuracy: 0.7812\n",
            "Epoch 2/2, steps: 154, Train loss: 0.0475, Test loss: 1.0759, Test accuracy: 0.7752\n",
            "Epoch 2/2, steps: 154, Train loss: 0.0000, Validation loss: 0.8867, Validation accuracy: 0.7897\n",
            "Epoch 2/2, steps: 155, Train loss: 0.0696, Test loss: 1.0678, Test accuracy: 0.7770\n",
            "Epoch 2/2, steps: 155, Train loss: 0.0000, Validation loss: 0.8777, Validation accuracy: 0.7910\n",
            "Epoch 2/2, steps: 156, Train loss: 0.0790, Test loss: 1.0437, Test accuracy: 0.7758\n",
            "Epoch 2/2, steps: 156, Train loss: 0.0000, Validation loss: 0.8543, Validation accuracy: 0.7995\n",
            "Epoch 2/2, steps: 157, Train loss: 0.0687, Test loss: 1.0249, Test accuracy: 0.7795\n",
            "Epoch 2/2, steps: 157, Train loss: 0.0000, Validation loss: 0.8388, Validation accuracy: 0.8032\n",
            "Epoch 2/2, steps: 158, Train loss: 0.0577, Test loss: 1.0199, Test accuracy: 0.7819\n",
            "Epoch 2/2, steps: 158, Train loss: 0.0000, Validation loss: 0.8380, Validation accuracy: 0.8020\n",
            "Epoch 2/2, steps: 159, Train loss: 0.0664, Test loss: 1.0181, Test accuracy: 0.7795\n",
            "Epoch 2/2, steps: 159, Train loss: 0.0000, Validation loss: 0.8429, Validation accuracy: 0.7958\n",
            "Epoch 2/2, steps: 160, Train loss: 0.0567, Test loss: 1.0241, Test accuracy: 0.7697\n",
            "Epoch 2/2, steps: 160, Train loss: 0.0000, Validation loss: 0.8526, Validation accuracy: 0.7983\n",
            "Epoch 2/2, steps: 161, Train loss: 0.0491, Test loss: 1.0253, Test accuracy: 0.7776\n",
            "Epoch 2/2, steps: 161, Train loss: 0.0000, Validation loss: 0.8573, Validation accuracy: 0.7934\n",
            "Epoch 2/2, steps: 162, Train loss: 0.0664, Test loss: 1.0205, Test accuracy: 0.7776\n",
            "Epoch 2/2, steps: 162, Train loss: 0.0000, Validation loss: 0.8554, Validation accuracy: 0.7897\n",
            "Epoch 2/2, steps: 163, Train loss: 0.0555, Test loss: 1.0153, Test accuracy: 0.7801\n",
            "Epoch 2/2, steps: 163, Train loss: 0.0000, Validation loss: 0.8539, Validation accuracy: 0.7958\n",
            "Epoch 2/2, steps: 164, Train loss: 0.0586, Test loss: 1.0034, Test accuracy: 0.7831\n",
            "Epoch 2/2, steps: 164, Train loss: 0.0000, Validation loss: 0.8452, Validation accuracy: 0.7995\n",
            "Epoch 2/2, steps: 165, Train loss: 0.0737, Test loss: 0.9831, Test accuracy: 0.7905\n",
            "Epoch 2/2, steps: 165, Train loss: 0.0000, Validation loss: 0.8295, Validation accuracy: 0.7958\n",
            "Epoch 2/2, steps: 166, Train loss: 0.0706, Test loss: 0.9654, Test accuracy: 0.7911\n",
            "Epoch 2/2, steps: 166, Train loss: 0.0000, Validation loss: 0.8196, Validation accuracy: 0.8032\n",
            "Epoch 2/2, steps: 167, Train loss: 0.0504, Test loss: 0.9580, Test accuracy: 0.7978\n",
            "Epoch 2/2, steps: 167, Train loss: 0.0000, Validation loss: 0.8158, Validation accuracy: 0.8068\n",
            "Epoch 2/2, steps: 168, Train loss: 0.0633, Test loss: 0.9546, Test accuracy: 0.8009\n",
            "Epoch 2/2, steps: 168, Train loss: 0.0000, Validation loss: 0.8142, Validation accuracy: 0.8130\n",
            "Epoch 2/2, steps: 169, Train loss: 0.0556, Test loss: 0.9555, Test accuracy: 0.7990\n",
            "Epoch 2/2, steps: 169, Train loss: 0.0000, Validation loss: 0.8134, Validation accuracy: 0.8032\n",
            "Epoch 2/2, steps: 170, Train loss: 0.0601, Test loss: 0.9665, Test accuracy: 0.7892\n",
            "Epoch 2/2, steps: 170, Train loss: 0.0000, Validation loss: 0.8205, Validation accuracy: 0.7958\n",
            "Epoch 2/2, steps: 171, Train loss: 0.0629, Test loss: 0.9751, Test accuracy: 0.7825\n",
            "Epoch 2/2, steps: 171, Train loss: 0.0000, Validation loss: 0.8244, Validation accuracy: 0.7958\n",
            "Epoch 2/2, steps: 172, Train loss: 0.0477, Test loss: 0.9865, Test accuracy: 0.7776\n",
            "Epoch 2/2, steps: 172, Train loss: 0.0000, Validation loss: 0.8327, Validation accuracy: 0.7873\n",
            "Epoch 2/2, steps: 173, Train loss: 0.0709, Test loss: 0.9813, Test accuracy: 0.7783\n",
            "Epoch 2/2, steps: 173, Train loss: 0.0000, Validation loss: 0.8262, Validation accuracy: 0.7922\n",
            "Epoch 2/2, steps: 174, Train loss: 0.0475, Test loss: 0.9722, Test accuracy: 0.7819\n",
            "Epoch 2/2, steps: 174, Train loss: 0.0000, Validation loss: 0.8183, Validation accuracy: 0.7848\n",
            "Epoch 2/2, steps: 175, Train loss: 0.0521, Test loss: 0.8875, Test accuracy: 0.7741\n",
            "Epoch 2/2, steps: 175, Train loss: 0.0000, Validation loss: 0.8096, Validation accuracy: 0.7983\n",
            "Epoch 2/2, steps: 176, Train loss: 0.0597, Test loss: 0.9450, Test accuracy: 0.7856\n",
            "Epoch 2/2, steps: 176, Train loss: 0.0000, Validation loss: 0.8020, Validation accuracy: 0.7983\n",
            "Epoch 2/2, steps: 177, Train loss: 0.0583, Test loss: 0.9510, Test accuracy: 0.7850\n",
            "Epoch 2/2, steps: 177, Train loss: 0.0000, Validation loss: 0.8047, Validation accuracy: 0.7995\n",
            "Epoch 2/2, steps: 178, Train loss: 0.0457, Test loss: 0.9591, Test accuracy: 0.7819\n",
            "Epoch 2/2, steps: 178, Train loss: 0.0000, Validation loss: 0.8141, Validation accuracy: 0.7885\n",
            "Epoch 2/2, steps: 179, Train loss: 0.0659, Test loss: 0.9675, Test accuracy: 0.7728\n",
            "Epoch 2/2, steps: 179, Train loss: 0.0000, Validation loss: 0.8196, Validation accuracy: 0.7861\n",
            "Epoch 2/2, steps: 180, Train loss: 0.0585, Test loss: 0.9774, Test accuracy: 0.7709\n",
            "Epoch 2/2, steps: 180, Train loss: 0.0000, Validation loss: 0.8271, Validation accuracy: 0.7824\n",
            "Epoch 2/2, steps: 181, Train loss: 0.0489, Test loss: 0.9632, Test accuracy: 0.7721\n",
            "Epoch 2/2, steps: 181, Train loss: 0.0000, Validation loss: 0.8103, Validation accuracy: 0.7800\n",
            "Epoch 2/2, steps: 182, Train loss: 0.0604, Test loss: 0.9457, Test accuracy: 0.7758\n",
            "Epoch 2/2, steps: 182, Train loss: 0.0000, Validation loss: 0.7899, Validation accuracy: 0.7897\n",
            "Epoch 2/2, steps: 183, Train loss: 0.0688, Test loss: 0.9205, Test accuracy: 0.7831\n",
            "Epoch 2/2, steps: 183, Train loss: 0.0000, Validation loss: 0.7626, Validation accuracy: 0.7995\n",
            "Epoch 2/2, steps: 184, Train loss: 0.0682, Test loss: 0.8979, Test accuracy: 0.7911\n",
            "Epoch 2/2, steps: 184, Train loss: 0.0000, Validation loss: 0.7360, Validation accuracy: 0.8142\n",
            "Epoch 2/2, steps: 185, Train loss: 0.0647, Test loss: 0.8851, Test accuracy: 0.8015\n",
            "Epoch 2/2, steps: 185, Train loss: 0.0000, Validation loss: 0.7178, Validation accuracy: 0.8289\n",
            "Epoch 2/2, steps: 186, Train loss: 0.0640, Test loss: 0.8911, Test accuracy: 0.8119\n",
            "Epoch 2/2, steps: 186, Train loss: 0.0000, Validation loss: 0.7154, Validation accuracy: 0.8264\n",
            "Epoch 2/2, steps: 187, Train loss: 0.0580, Test loss: 0.9109, Test accuracy: 0.8033\n",
            "Epoch 2/2, steps: 187, Train loss: 0.0000, Validation loss: 0.7247, Validation accuracy: 0.8313\n",
            "Epoch 2/2, steps: 188, Train loss: 0.0565, Test loss: 0.9397, Test accuracy: 0.8051\n",
            "Epoch 2/2, steps: 188, Train loss: 0.0000, Validation loss: 0.7454, Validation accuracy: 0.8215\n",
            "Epoch 2/2, steps: 189, Train loss: 0.0578, Test loss: 0.9637, Test accuracy: 0.7935\n",
            "Epoch 2/2, steps: 189, Train loss: 0.0000, Validation loss: 0.7623, Validation accuracy: 0.8215\n",
            "Epoch 2/2, steps: 190, Train loss: 0.0619, Test loss: 0.9796, Test accuracy: 0.7929\n",
            "Epoch 2/2, steps: 190, Train loss: 0.0000, Validation loss: 0.7742, Validation accuracy: 0.8252\n",
            "Epoch 2/2, steps: 191, Train loss: 0.0697, Test loss: 0.9822, Test accuracy: 0.7941\n",
            "Epoch 2/2, steps: 191, Train loss: 0.0000, Validation loss: 0.7741, Validation accuracy: 0.8240\n",
            "Epoch 2/2, steps: 192, Train loss: 0.0591, Test loss: 0.9778, Test accuracy: 0.7917\n",
            "Epoch 2/2, steps: 192, Train loss: 0.0000, Validation loss: 0.7695, Validation accuracy: 0.8130\n",
            "Epoch 2/2, steps: 193, Train loss: 0.0726, Test loss: 0.9576, Test accuracy: 0.7923\n",
            "Epoch 2/2, steps: 193, Train loss: 0.0000, Validation loss: 0.7572, Validation accuracy: 0.8117\n",
            "Epoch 2/2, steps: 194, Train loss: 0.0568, Test loss: 0.9361, Test accuracy: 0.7947\n",
            "Epoch 2/2, steps: 194, Train loss: 0.0000, Validation loss: 0.7467, Validation accuracy: 0.8240\n",
            "Epoch 2/2, steps: 195, Train loss: 0.0608, Test loss: 0.9170, Test accuracy: 0.8033\n",
            "Epoch 2/2, steps: 195, Train loss: 0.0000, Validation loss: 0.7343, Validation accuracy: 0.8203\n",
            "Epoch 2/2, steps: 196, Train loss: 0.0565, Test loss: 0.9013, Test accuracy: 0.8027\n",
            "Epoch 2/2, steps: 196, Train loss: 0.0000, Validation loss: 0.7248, Validation accuracy: 0.8264\n",
            "Epoch 2/2, steps: 197, Train loss: 0.0606, Test loss: 0.8826, Test accuracy: 0.8057\n",
            "Epoch 2/2, steps: 197, Train loss: 0.0000, Validation loss: 0.7162, Validation accuracy: 0.8313\n",
            "Epoch 2/2, steps: 198, Train loss: 0.0602, Test loss: 0.8657, Test accuracy: 0.8070\n",
            "Epoch 2/2, steps: 198, Train loss: 0.0000, Validation loss: 0.7106, Validation accuracy: 0.8411\n",
            "Epoch 2/2, steps: 199, Train loss: 0.0474, Test loss: 0.8533, Test accuracy: 0.8167\n",
            "Epoch 2/2, steps: 199, Train loss: 0.0000, Validation loss: 0.7063, Validation accuracy: 0.8423\n",
            "Epoch 2/2, steps: 200, Train loss: 0.0464, Test loss: 0.7784, Test accuracy: 0.7985\n",
            "Epoch 2/2, steps: 200, Train loss: 0.0000, Validation loss: 0.7029, Validation accuracy: 0.8374\n",
            "Epoch 2/2, steps: 201, Train loss: 0.0445, Test loss: 0.8366, Test accuracy: 0.8192\n",
            "Epoch 2/2, steps: 201, Train loss: 0.0000, Validation loss: 0.7053, Validation accuracy: 0.8362\n",
            "Epoch 2/2, steps: 202, Train loss: 0.0471, Test loss: 0.8382, Test accuracy: 0.8173\n",
            "Epoch 2/2, steps: 202, Train loss: 0.0000, Validation loss: 0.7060, Validation accuracy: 0.8289\n",
            "Epoch 2/2, steps: 203, Train loss: 0.0548, Test loss: 0.8330, Test accuracy: 0.8155\n",
            "Epoch 2/2, steps: 203, Train loss: 0.0000, Validation loss: 0.7058, Validation accuracy: 0.8276\n",
            "Epoch 2/2, steps: 204, Train loss: 0.0570, Test loss: 0.8261, Test accuracy: 0.8143\n",
            "Epoch 2/2, steps: 204, Train loss: 0.0000, Validation loss: 0.7041, Validation accuracy: 0.8313\n",
            "Epoch 2/2, steps: 205, Train loss: 0.0623, Test loss: 0.8164, Test accuracy: 0.8222\n",
            "Epoch 2/2, steps: 205, Train loss: 0.0000, Validation loss: 0.6996, Validation accuracy: 0.8350\n",
            "Epoch 2/2, steps: 206, Train loss: 0.0632, Test loss: 0.8010, Test accuracy: 0.8259\n",
            "Epoch 2/2, steps: 206, Train loss: 0.0000, Validation loss: 0.6884, Validation accuracy: 0.8423\n"
          ]
        }
      ]
    },
    {
      "cell_type": "code",
      "source": [
        "epochs = 3\n",
        "print_every = 35\n",
        "def evaluate(model, dataloader, criterion, device):\n",
        "    model.eval()  # Set the model to evaluation mode\n",
        "    test_loss = 0\n",
        "    correct = 0\n",
        "    total = 0\n",
        "\n",
        "\n",
        "    with torch.no_grad():\n",
        "        for images, labels in dataloader:\n",
        "            images, labels = images.to(device), labels.to(device)\n",
        "            outputs = model(images)\n",
        "            loss = criterion(outputs, labels)\n",
        "            test_loss += loss.item()\n",
        "\n",
        "            ps = torch.exp(outputs)\n",
        "            top_ps, top_class = ps.topk(1, dim=1)\n",
        "            equals = top_class == labels.view(*top_class.shape)\n",
        "            correct += equals.sum().item()\n",
        "            total += labels.size(0)\n",
        "\n",
        "    average_loss = test_loss / len(dataloader)\n",
        "    accuracy = correct / total if total > 0 else 0\n",
        "    return average_loss, accuracy\n",
        "\n",
        "for epoch in range(epochs):\n",
        "    print(f\"Epoch: {epoch + 1}/{epochs}\")\n",
        "    model.train()  # Set to training mode\n",
        "    running_loss = 0\n",
        "    steps = 0\n",
        "\n",
        "    for images, labels in dataloaders['train']:\n",
        "        images, labels = images.to(device), labels.to(device)\n",
        "        optimizer.zero_grad()\n",
        "        outputs = model(images)\n",
        "        loss = criterion(outputs, labels)\n",
        "        loss.backward()\n",
        "        optimizer.step()\n",
        "\n",
        "        running_loss += loss.item()\n",
        "        steps += 1\n",
        "\n",
        "        if steps % print_every == 0:\n",
        "            train_loss = running_loss / print_every\n",
        "            test_loss, test_accuracy = evaluate(model, dataloaders['test'], criterion, device)\n",
        "\n",
        "            print(f\"Epoch {epoch+1}/{epochs}, steps: {steps}, \"\n",
        "                  f\"Train loss: {train_loss:.4f}, \"\n",
        "                  f\"Test loss: {test_loss:.4f}, Test accuracy: {test_accuracy:.4f}\")\n",
        "\n",
        "            running_loss = 0\n",
        "\n",
        "    # Validation\n",
        "    validation_loss, validation_accuracy = evaluate(model, dataloaders['validation'], criterion, device)\n",
        "    print(f\"Epoch {epoch+1}/{epochs}, \"\n",
        "          f\"Validation loss: {validation_loss:.4f}, \"\n",
        "          f\"Validation accuracy: {validation_accuracy:.4f}\")"
      ],
      "metadata": {
        "id": "M5YCm288cuMO",
        "outputId": "17a10eab-9e12-4a42-c755-7699db4640e7",
        "colab": {
          "base_uri": "https://localhost:8080/"
        }
      },
      "execution_count": null,
      "outputs": [
        {
          "output_type": "stream",
          "name": "stdout",
          "text": [
            "Epoch: 1/3\n",
            "Epoch 1/3, steps: 35, Train loss: 2.5388, Test loss: 1.6387, Test accuracy: 0.8144\n",
            "Epoch 1/3, steps: 70, Train loss: 1.7670, Test loss: 0.9136, Test accuracy: 0.8083\n",
            "Epoch 1/3, Validation loss: 0.7089, Validation accuracy: 0.8362\n",
            "Epoch: 2/3\n",
            "Epoch 2/3, steps: 35, Train loss: 2.4271, Test loss: 1.7397, Test accuracy: 0.8291\n",
            "Epoch 2/3, steps: 70, Train loss: 1.7673, Test loss: 0.9541, Test accuracy: 0.8205\n",
            "Epoch 2/3, Validation loss: 0.6886, Validation accuracy: 0.8594\n",
            "Epoch: 3/3\n",
            "Epoch 3/3, steps: 35, Train loss: 2.4620, Test loss: 1.8164, Test accuracy: 0.8046\n",
            "Epoch 3/3, steps: 70, Train loss: 1.7582, Test loss: 1.0162, Test accuracy: 0.8095\n",
            "Epoch 3/3, Validation loss: 0.7294, Validation accuracy: 0.8692\n"
          ]
        }
      ]
    },
    {
      "cell_type": "markdown",
      "metadata": {
        "id": "QsJi4vr1Dm1p"
      },
      "source": [
        "## Testing your network\n",
        "\n",
        "It's good practice to test your trained network on test data, images the network has never seen either in training or validation. This will give you a good estimate for the model's performance on completely new images. Run the test images through the network and measure the accuracy, the same way you did validation. You should be able to reach around 70% accuracy on the test set if the model has been trained well."
      ]
    },
    {
      "cell_type": "code",
      "execution_count": null,
      "metadata": {
        "colab": {
          "base_uri": "https://localhost:8080/"
        },
        "id": "_ugaCeNyDm1p",
        "outputId": "68f81fb1-e20c-4c30-badc-ade8e4b449f6"
      },
      "outputs": [
        {
          "output_type": "stream",
          "name": "stdout",
          "text": [
            "Accuracy on test images is: 66%\n"
          ]
        }
      ],
      "source": [
        "# TODO: Do validation on the test set\n",
        "correct,total = 0,0\n",
        "with torch.no_grad():\n",
        "    model.eval()\n",
        "    for data in dataloaders['train']:\n",
        "        images, labels = data\n",
        "        images, labels = images.to('cuda'), labels.to('cuda')\n",
        "        outputs = model(images)\n",
        "        _, predicted = torch.max(outputs.data, 1)\n",
        "        total += labels.size(0)\n",
        "        correct += (predicted == labels).sum().item()\n",
        "\n",
        "print('Accuracy on test images is: %d%%' % (100 * correct / total))"
      ]
    },
    {
      "cell_type": "markdown",
      "metadata": {
        "id": "51aTbGiaDm1p"
      },
      "source": [
        "## Save the checkpoint\n",
        "\n",
        "Now that your network is trained, save the model so you can load it later for making predictions. You probably want to save other things such as the mapping of classes to indices which you get from one of the image datasets: `image_datasets['train'].class_to_idx`. You can attach this to the model as an attribute which makes inference easier later on.\n",
        "\n",
        "```model.class_to_idx = image_datasets['train'].class_to_idx```\n",
        "\n",
        "Remember that you'll want to completely rebuild the model later so you can use it for inference. Make sure to include any information you need in the checkpoint. If you want to load the model and keep training, you'll want to save the number of epochs as well as the optimizer state, `optimizer.state_dict`. You'll likely want to use this trained model in the next part of the project, so best to save it now."
      ]
    },
    {
      "cell_type": "code",
      "execution_count": null,
      "metadata": {
        "id": "tS_svK73Dm1p"
      },
      "outputs": [],
      "source": [
        "# TODO: Save the checkpoint"
      ]
    },
    {
      "cell_type": "markdown",
      "metadata": {
        "id": "nFobS2DwDm1q"
      },
      "source": [
        "## Loading the checkpoint\n",
        "\n",
        "At this point it's good to write a function that can load a checkpoint and rebuild the model. That way you can come back to this project and keep working on it without having to retrain the network."
      ]
    },
    {
      "cell_type": "code",
      "execution_count": null,
      "metadata": {
        "id": "8PUq5pu1Dm1q"
      },
      "outputs": [],
      "source": [
        "# TODO: Write a function that loads a checkpoint and rebuilds the model"
      ]
    },
    {
      "cell_type": "markdown",
      "metadata": {
        "id": "FkjFRYmYDm1q"
      },
      "source": [
        "# Inference for classification\n",
        "\n",
        "Now you'll write a function to use a trained network for inference. That is, you'll pass an image into the network and predict the class of the flower in the image. Write a function called `predict` that takes an image and a model, then returns the top $K$ most likely classes along with the probabilities. It should look like\n",
        "\n",
        "```python\n",
        "probs, classes = predict(image_path, model)\n",
        "print(probs)\n",
        "print(classes)\n",
        "> [ 0.01558163  0.01541934  0.01452626  0.01443549  0.01407339]\n",
        "> ['70', '3', '45', '62', '55']\n",
        "```\n",
        "\n",
        "First you'll need to handle processing the input image such that it can be used in your network.\n",
        "\n",
        "## Image Preprocessing\n",
        "\n",
        "You'll want to use `PIL` to load the image ([documentation](https://pillow.readthedocs.io/en/latest/reference/Image.html)). It's best to write a function that preprocesses the image so it can be used as input for the model. This function should process the images in the same manner used for training.\n",
        "\n",
        "First, resize the images where the shortest side is 256 pixels, keeping the aspect ratio. This can be done with the [`thumbnail`](http://pillow.readthedocs.io/en/3.1.x/reference/Image.html#PIL.Image.Image.thumbnail) or [`resize`](http://pillow.readthedocs.io/en/3.1.x/reference/Image.html#PIL.Image.Image.thumbnail) methods. Then you'll need to crop out the center 224x224 portion of the image.\n",
        "\n",
        "Color channels of images are typically encoded as integers 0-255, but the model expected floats 0-1. You'll need to convert the values. It's easiest with a Numpy array, which you can get from a PIL image like so `np_image = np.array(pil_image)`.\n",
        "\n",
        "As before, the network expects the images to be normalized in a specific way. For the means, it's `[0.485, 0.456, 0.406]` and for the standard deviations `[0.229, 0.224, 0.225]`. You'll want to subtract the means from each color channel, then divide by the standard deviation.\n",
        "\n",
        "And finally, PyTorch expects the color channel to be the first dimension but it's the third dimension in the PIL image and Numpy array. You can reorder dimensions using [`ndarray.transpose`](https://docs.scipy.org/doc/numpy-1.13.0/reference/generated/numpy.ndarray.transpose.html). The color channel needs to be first and retain the order of the other two dimensions."
      ]
    },
    {
      "cell_type": "code",
      "execution_count": null,
      "metadata": {
        "id": "U3GP9KaiDm1q"
      },
      "outputs": [],
      "source": [
        "def process_image(image):\n",
        "    ''' Scales, crops, and normalizes a PIL image for a PyTorch model,\n",
        "        returns an Numpy array\n",
        "    '''\n",
        "\n",
        "    # TODO: Process a PIL image for use in a PyTorch model"
      ]
    },
    {
      "cell_type": "markdown",
      "metadata": {
        "id": "rHO2DzgKDm1q"
      },
      "source": [
        "To check your work, the function below converts a PyTorch tensor and displays it in the notebook. If your `process_image` function works, running the output through this function should return the original image (except for the cropped out portions)."
      ]
    },
    {
      "cell_type": "code",
      "execution_count": null,
      "metadata": {
        "id": "5yvYUbeFDm1q"
      },
      "outputs": [],
      "source": [
        "def imshow(image, ax=None, title=None):\n",
        "    \"\"\"Imshow for Tensor.\"\"\"\n",
        "    if ax is None:\n",
        "        fig, ax = plt.subplots()\n",
        "\n",
        "    # PyTorch tensors assume the color channel is the first dimension\n",
        "    # but matplotlib assumes is the third dimension\n",
        "    image = image.numpy().transpose((1, 2, 0))\n",
        "\n",
        "    # Undo preprocessing\n",
        "    mean = np.array([0.485, 0.456, 0.406])\n",
        "    std = np.array([0.229, 0.224, 0.225])\n",
        "    image = std * image + mean\n",
        "\n",
        "    # Image needs to be clipped between 0 and 1 or it looks like noise when displayed\n",
        "    image = np.clip(image, 0, 1)\n",
        "\n",
        "    ax.imshow(image)\n",
        "\n",
        "    return ax"
      ]
    },
    {
      "cell_type": "markdown",
      "metadata": {
        "id": "eQmUQWGdDm1q"
      },
      "source": [
        "## Class Prediction\n",
        "\n",
        "Once you can get images in the correct format, it's time to write a function for making predictions with your model. A common practice is to predict the top 5 or so (usually called top-$K$) most probable classes. You'll want to calculate the class probabilities then find the $K$ largest values.\n",
        "\n",
        "To get the top $K$ largest values in a tensor use [`x.topk(k)`](http://pytorch.org/docs/master/torch.html#torch.topk). This method returns both the highest `k` probabilities and the indices of those probabilities corresponding to the classes. You need to convert from these indices to the actual class labels using `class_to_idx` which hopefully you added to the model or from an `ImageFolder` you used to load the data ([see here](#Save-the-checkpoint)). Make sure to invert the dictionary so you get a mapping from index to class as well.\n",
        "\n",
        "Again, this method should take a path to an image and a model checkpoint, then return the probabilities and classes.\n",
        "\n",
        "```python\n",
        "probs, classes = predict(image_path, model)\n",
        "print(probs)\n",
        "print(classes)\n",
        "> [ 0.01558163  0.01541934  0.01452626  0.01443549  0.01407339]\n",
        "> ['70', '3', '45', '62', '55']\n",
        "```"
      ]
    },
    {
      "cell_type": "code",
      "execution_count": null,
      "metadata": {
        "id": "9cgUIBkfDm1q"
      },
      "outputs": [],
      "source": [
        "def predict(image_path, model, topk=5):\n",
        "    ''' Predict the class (or classes) of an image using a trained deep learning model.\n",
        "    '''\n",
        "\n",
        "    # TODO: Implement the code to predict the class from an image file"
      ]
    },
    {
      "cell_type": "markdown",
      "metadata": {
        "id": "wabXW8W4Dm1q"
      },
      "source": [
        "## Sanity Checking\n",
        "\n",
        "Now that you can use a trained model for predictions, check to make sure it makes sense. Even if the testing accuracy is high, it's always good to check that there aren't obvious bugs. Use `matplotlib` to plot the probabilities for the top 5 classes as a bar graph, along with the input image. It should look like this:\n",
        "\n",
        "<img src='https://github.com/udacity/aipnd-project/blob/master/assets/inference_example.png?raw=1' width=300px>\n",
        "\n",
        "You can convert from the class integer encoding to actual flower names with the `cat_to_name.json` file (should have been loaded earlier in the notebook). To show a PyTorch tensor as an image, use the `imshow` function defined above."
      ]
    },
    {
      "cell_type": "code",
      "execution_count": null,
      "metadata": {
        "id": "y2xAdpeNDm1q"
      },
      "outputs": [],
      "source": [
        "# TODO: Display an image along with the top 5 classes"
      ]
    }
  ],
  "metadata": {
    "kernelspec": {
      "display_name": "Python 3",
      "name": "python3"
    },
    "language_info": {
      "codemirror_mode": {
        "name": "ipython",
        "version": 3
      },
      "file_extension": ".py",
      "mimetype": "text/x-python",
      "name": "python",
      "nbconvert_exporter": "python",
      "pygments_lexer": "ipython3",
      "version": "3.6.6"
    },
    "colab": {
      "provenance": [],
      "gpuType": "T4",
      "include_colab_link": true
    },
    "accelerator": "GPU"
  },
  "nbformat": 4,
  "nbformat_minor": 0
}